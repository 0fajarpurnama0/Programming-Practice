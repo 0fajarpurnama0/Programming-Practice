{
 "cells": [
  {
   "cell_type": "markdown",
   "metadata": {},
   "source": [
    "This is an addition of two vectors in python."
   ]
  },
  {
   "cell_type": "code",
   "execution_count": null,
   "metadata": {},
   "outputs": [],
   "source": [
    "# import numpy as np\n",
    "from timeit import default_timer as timer\n",
    "\n",
    "def VectorAdd(a, b, c):\n",
    "  for i in xrange(a.size):\n",
    "  c[i] = a[i] + b[i]\n",
    "\n",
    "def main():\n",
    "  N = 32000000 # Number of elements per Array\n",
    "\n",
    "  A = np.ones(N, dtype=np.float32)\n",
    "  B = np.ones(N, dtype=np.float32)\n",
    "  C = np.zeros(N, dtype=np.float32)\n",
    "\n",
    "  start = timer()\n",
    "  VectorAdd(A, B, C)\n",
    "  vectoradd_time = timer() - start\n",
    "  \n",
    "  print(\"C[:5] = \" + str(C[:5]))\n",
    "  print(\"C[-5:] = \" + str(C[-5:]))\n",
    "\n",
    "  print(\"Vector Add took %f seconds\" % vectoradd_time)\n",
    "\n",
    "if __name__ == '__main__':\n",
    "  main()"
   ]
  }
 ],
 "metadata": {
  "kernelspec": {
   "display_name": "Python 3",
   "language": "python",
   "name": "python3"
  },
  "language_info": {
   "codemirror_mode": {
    "name": "ipython",
    "version": 3
   },
   "file_extension": ".py",
   "mimetype": "text/x-python",
   "name": "python",
   "nbconvert_exporter": "python",
   "pygments_lexer": "ipython3",
   "version": "3.6.3"
  }
 },
 "nbformat": 4,
 "nbformat_minor": 2
}
