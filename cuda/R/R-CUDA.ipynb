{
 "cells": [
  {
   "cell_type": "markdown",
   "metadata": {},
   "source": [
    "Matrix multiplication in R using CPU."
   ]
  },
  {
   "cell_type": "code",
   "execution_count": 4,
   "metadata": {},
   "outputs": [
    {
     "data": {
      "text/html": [
       "<table>\n",
       "<thead><tr><th scope=col>test</th><th scope=col>replications</th><th scope=col>elapsed</th><th scope=col>relative</th><th scope=col>user.self</th><th scope=col>sys.self</th><th scope=col>user.child</th><th scope=col>sys.child</th></tr></thead>\n",
       "<tbody>\n",
       "\t<tr><td>sum(host_a)</td><td>100        </td><td>1.285      </td><td>1          </td><td>1.288      </td><td>0          </td><td>0          </td><td>0          </td></tr>\n",
       "</tbody>\n",
       "</table>\n"
      ],
      "text/latex": [
       "\\begin{tabular}{r|llllllll}\n",
       " test & replications & elapsed & relative & user.self & sys.self & user.child & sys.child\\\\\n",
       "\\hline\n",
       "\t sum(host\\_a) & 100           & 1.285         & 1             & 1.288         & 0             & 0             & 0            \\\\\n",
       "\\end{tabular}\n"
      ],
      "text/markdown": [
       "\n",
       "test | replications | elapsed | relative | user.self | sys.self | user.child | sys.child | \n",
       "|---|\n",
       "| sum(host_a) | 100         | 1.285       | 1           | 1.288       | 0           | 0           | 0           | \n",
       "\n",
       "\n"
      ],
      "text/plain": [
       "  test        replications elapsed relative user.self sys.self user.child\n",
       "1 sum(host_a) 100          1.285   1        1.288     0        0         \n",
       "  sys.child\n",
       "1 0        "
      ]
     },
     "metadata": {},
     "output_type": "display_data"
    },
    {
     "data": {
      "text/html": [
       "1e+07"
      ],
      "text/latex": [
       "1e+07"
      ],
      "text/markdown": [
       "1e+07"
      ],
      "text/plain": [
       "[1] 1e+07"
      ]
     },
     "metadata": {},
     "output_type": "display_data"
    }
   ],
   "source": [
    "library(rbenchmark)\n",
    "\n",
    "host_a <- runif(10000000,1,1)\n",
    "\n",
    "benchmark(sum(host_a))\n",
    "\n",
    "sum(host_a)\n"
   ]
  },
  {
   "cell_type": "markdown",
   "metadata": {},
   "source": [
    "Matrix multiplication in R using GPU."
   ]
  },
  {
   "cell_type": "code",
   "execution_count": 3,
   "metadata": {},
   "outputs": [
    {
     "data": {
      "text/html": [
       "<table>\n",
       "<thead><tr><th scope=col>test</th><th scope=col>replications</th><th scope=col>elapsed</th><th scope=col>relative</th><th scope=col>user.self</th><th scope=col>sys.self</th><th scope=col>user.child</th><th scope=col>sys.child</th></tr></thead>\n",
       "<tbody>\n",
       "\t<tr><td>sum(host_a)</td><td>100        </td><td>1.284      </td><td>1          </td><td>1.284      </td><td>0          </td><td>0          </td><td>0          </td></tr>\n",
       "</tbody>\n",
       "</table>\n"
      ],
      "text/latex": [
       "\\begin{tabular}{r|llllllll}\n",
       " test & replications & elapsed & relative & user.self & sys.self & user.child & sys.child\\\\\n",
       "\\hline\n",
       "\t sum(host\\_a) & 100           & 1.284         & 1             & 1.284         & 0             & 0             & 0            \\\\\n",
       "\\end{tabular}\n"
      ],
      "text/markdown": [
       "\n",
       "test | replications | elapsed | relative | user.self | sys.self | user.child | sys.child | \n",
       "|---|\n",
       "| sum(host_a) | 100         | 1.284       | 1           | 1.284       | 0           | 0           | 0           | \n",
       "\n",
       "\n"
      ],
      "text/plain": [
       "  test        replications elapsed relative user.self sys.self user.child\n",
       "1 sum(host_a) 100          1.284   1        1.284     0        0         \n",
       "  sys.child\n",
       "1 0        "
      ]
     },
     "metadata": {},
     "output_type": "display_data"
    },
    {
     "data": {
      "text/html": [
       "<table>\n",
       "<thead><tr><th scope=col>test</th><th scope=col>replications</th><th scope=col>elapsed</th><th scope=col>relative</th><th scope=col>user.self</th><th scope=col>sys.self</th><th scope=col>user.child</th><th scope=col>sys.child</th></tr></thead>\n",
       "<tbody>\n",
       "\t<tr><td>sum(gpu_a)</td><td>100       </td><td>0.156     </td><td>1         </td><td>0.12      </td><td>0.032     </td><td>0         </td><td>0         </td></tr>\n",
       "</tbody>\n",
       "</table>\n"
      ],
      "text/latex": [
       "\\begin{tabular}{r|llllllll}\n",
       " test & replications & elapsed & relative & user.self & sys.self & user.child & sys.child\\\\\n",
       "\\hline\n",
       "\t sum(gpu\\_a) & 100          & 0.156        & 1            & 0.12         & 0.032        & 0            & 0           \\\\\n",
       "\\end{tabular}\n"
      ],
      "text/markdown": [
       "\n",
       "test | replications | elapsed | relative | user.self | sys.self | user.child | sys.child | \n",
       "|---|\n",
       "| sum(gpu_a) | 100        | 0.156      | 1          | 0.12       | 0.032      | 0          | 0          | \n",
       "\n",
       "\n"
      ],
      "text/plain": [
       "  test       replications elapsed relative user.self sys.self user.child\n",
       "1 sum(gpu_a) 100          0.156   1        0.12      0.032    0         \n",
       "  sys.child\n",
       "1 0        "
      ]
     },
     "metadata": {},
     "output_type": "display_data"
    },
    {
     "data": {
      "text/html": [
       "1e+07"
      ],
      "text/latex": [
       "1e+07"
      ],
      "text/markdown": [
       "1e+07"
      ],
      "text/plain": [
       "[1] 1e+07"
      ]
     },
     "metadata": {},
     "output_type": "display_data"
    }
   ],
   "source": [
    "library(gmatrix)\n",
    "library(rbenchmark)\n",
    "\n",
    "host_a <- runif(10000000,1,1)\n",
    "\n",
    "#Creating GPU objects\n",
    "gpu_a = g(host_a)\n",
    "\n",
    "#Perform some simple calculations\n",
    "benchmark(sum(host_a))\n",
    "benchmark(sum(gpu_a))\n",
    "\n",
    "gpu_ans = sum(gpu_a)\n",
    "\n",
    "#Move data back to the host\n",
    "host_ans = h(gpu_ans)\n",
    "print(host_ans)"
   ]
  },
  {
   "cell_type": "code",
   "execution_count": 5,
   "metadata": {},
   "outputs": [
    {
     "data": {
      "text/html": [
       "<table>\n",
       "<tbody>\n",
       "\t<tr><td>385</td></tr>\n",
       "</tbody>\n",
       "</table>\n"
      ],
      "text/latex": [
       "\\begin{tabular}{l}\n",
       "\t 385\\\\\n",
       "\\end{tabular}\n"
      ],
      "text/markdown": [
       "\n",
       "| 385 | \n",
       "\n",
       "\n"
      ],
      "text/plain": [
       "     [,1]\n",
       "[1,] 385 "
      ]
     },
     "metadata": {},
     "output_type": "display_data"
    }
   ],
   "source": [
    "h_x=1:10\n",
    "g_x=g(h_x) #Transfer to the device\n",
    "g_ans=crossprod(g_x) #Do a a calculation\n",
    "h_ans=h(g_ans) #Transfer back to the host\n",
    "h_ans"
   ]
  },
  {
   "cell_type": "code",
   "execution_count": null,
   "metadata": {},
   "outputs": [],
   "source": []
  }
 ],
 "metadata": {
  "kernelspec": {
   "display_name": "R",
   "language": "R",
   "name": "ir"
  },
  "language_info": {
   "codemirror_mode": "r",
   "file_extension": ".r",
   "mimetype": "text/x-r-source",
   "name": "R",
   "pygments_lexer": "r",
   "version": "3.2.3"
  }
 },
 "nbformat": 4,
 "nbformat_minor": 2
}
