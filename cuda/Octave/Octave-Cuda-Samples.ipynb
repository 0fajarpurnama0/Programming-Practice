{
 "cells": [
  {
   "cell_type": "markdown",
   "metadata": {},
   "source": [
    "Spectral Angle Mapper (SAM)"
   ]
  },
  {
   "cell_type": "code",
   "execution_count": 1,
   "metadata": {},
   "outputs": [
    {
     "name": "stdout",
     "output_type": "stream",
     "text": [
      "Elapsed time is 13.7853 seconds.\n",
      " 9.5671\n",
      " 229.85\n"
     ]
    }
   ],
   "source": [
    "M = 512*512; N = 2048; K = 2048;\n",
    "A = rand(K,M,\"single\"); B = rand(K,N,\"single\");\n",
    "\n",
    "# Count total elapsed time\n",
    "tic\n",
    "\n",
    "#Assume matrices are stored columnwise\n",
    "A = A / diag(norm(A,\"columns\")); B = B / diag(norm(B,\"columns\"));\n",
    "\n",
    "# Time sgemm only\n",
    "start = clock();\n",
    "C = transpose(B)*A;\n",
    "elapsedTime = etime(clock(), start);\n",
    "\n",
    "# Find maximum value in each column and store in a vector\n",
    "SAM=max(C);\n",
    "toc\n",
    "disp(elapsedTime);\n",
    "gFlops = 2*M*N*K/(elapsedTime * 1e+9);\n",
    "disp(gFlops);"
   ]
  },
  {
   "cell_type": "markdown",
   "metadata": {},
   "source": [
    "Spectral Angle Mapper (SAM) with nvblas."
   ]
  },
  {
   "cell_type": "code",
   "execution_count": 8,
   "metadata": {},
   "outputs": [
    {
     "name": "stdout",
     "output_type": "stream",
     "text": [
      "Elapsed time is 13.5912 seconds.\n",
      " 9.4352\n",
      " 233.07\n"
     ]
    }
   ],
   "source": [
    "%shell export \"LD_PRELOAD=/usr/local/cuda/targets/x86_64-linux/lib/libnvblas.so\"\n",
    "#setenv(\"LD_PRELOAD\", \"/usr/local/cuda/targets/x86_64-linux/lib/libnvblas.so\")\n",
    "#getenv(\"LD_PRELOAD\")\n",
    "#loadlibary\n",
    "#getenv(\"BLAS_VERSION\")\n",
    "#getenv(\"USER\")\n",
    "#getenv(\"PATH\")\n",
    "#getenv(\"LD_LIBRARY_PATH\")\n",
    "#setenv(\"LD_LIBRARY\", \"/usr/local/cuda/targets/x86_64-linux/lib/\")\n",
    "#setenv(\"NVBLAS_CONFIG_FILE\", \"/home/fajar/Documents/Programming-Practice/cuda/Octave/nvblas.conf\")\n",
    "\n",
    "M = 512*512; N = 2048; K = 2048;\n",
    "A = rand(K,M,\"single\"); B = rand(K,N,\"single\");\n",
    "\n",
    "# Count total elapsed time\n",
    "tic\n",
    "\n",
    "#Assume matrices are stored columnwise\n",
    "A = A / diag(norm(A,\"columns\")); B = B / diag(norm(B,\"columns\"));\n",
    "\n",
    "# Time sgemm only\n",
    "start = clock();\n",
    "C = transpose(B)*A;\n",
    "elapsedTime = etime(clock(), start);\n",
    "\n",
    "# Find maximum value in each column and store in a vector\n",
    "SAM=max(C);\n",
    "toc\n",
    "disp(elapsedTime);\n",
    "gFlops = 2*M*N*K/(elapsedTime * 1e+9);\n",
    "disp(gFlops);"
   ]
  },
  {
   "cell_type": "code",
   "execution_count": 11,
   "metadata": {},
   "outputs": [
    {
     "name": "stdout",
     "output_type": "stream",
     "text": [
      "ans = \n"
     ]
    }
   ],
   "source": [
    "getenv(\"LD_PRELOAD\")"
   ]
  },
  {
   "cell_type": "code",
   "execution_count": null,
   "metadata": {},
   "outputs": [],
   "source": []
  }
 ],
 "metadata": {
  "kernelspec": {
   "display_name": "Octave",
   "language": "octave",
   "name": "octave"
  },
  "language_info": {
   "file_extension": ".m",
   "help_links": [
    {
     "text": "GNU Octave",
     "url": "https://www.gnu.org/software/octave/support.html"
    },
    {
     "text": "Octave Kernel",
     "url": "https://github.com/Calysto/octave_kernel"
    },
    {
     "text": "MetaKernel Magics",
     "url": "https://github.com/calysto/metakernel/blob/master/metakernel/magics/README.md"
    }
   ],
   "mimetype": "text/x-octave",
   "name": "octave",
   "version": "4.0.0"
  }
 },
 "nbformat": 4,
 "nbformat_minor": 2
}
