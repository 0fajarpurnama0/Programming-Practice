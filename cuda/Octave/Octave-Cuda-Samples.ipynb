{
 "cells": [
  {
   "cell_type": "markdown",
   "metadata": {},
   "source": [
    "Spectral Angle Mapper (SAM)"
   ]
  },
  {
   "cell_type": "code",
   "execution_count": 2,
   "metadata": {},
   "outputs": [
    {
     "name": "stdout",
     "output_type": "stream",
     "text": [
      "Elapsed time is 10.161 seconds.\n",
      " 6.5616\n",
      " 335.14\n"
     ]
    }
   ],
   "source": [
    "M = 512*512; N = 2048; K = 2048;\n",
    "A = rand(K,M,\"single\"); B = rand(K,N,\"single\");\n",
    "\n",
    "# Count total elapsed time\n",
    "tic\n",
    "\n",
    "#Assume matrices are stored columnwise\n",
    "A = A / diag(norm(A,\"columns\")); B = B / diag(norm(B,\"columns\"));\n",
    "\n",
    "# Time sgemm only\n",
    "start = clock();\n",
    "C = transpose(B)*A;\n",
    "elapsedTime = etime(clock(), start);\n",
    "\n",
    "# Find maximum value in each column and store in a vector\n",
    "SAM=max(C);\n",
    "toc\n",
    "disp(elapsedTime);\n",
    "gFlops = 2*M*N*K/(elapsedTime * 1e+9);\n",
    "disp(gFlops);"
   ]
  },
  {
   "cell_type": "markdown",
   "metadata": {},
   "source": [
    "Spectral Angle Mapper (SAM) with nvblas."
   ]
  },
  {
   "cell_type": "code",
   "execution_count": 2,
   "metadata": {},
   "outputs": [
    {
     "name": "stdout",
     "output_type": "stream",
     "text": [
      "ans = \n",
      "ans = \n",
      "ans = fajar\n",
      "error: package nvblas is not installed\n",
      "error: called from\n",
      "    load_packages at line 41 column 7\n",
      "    pkg at line 411 column 7\n",
      "Elapsed time is 10.1927 seconds.\n",
      " 6.5856\n",
      " 333.91\n"
     ]
    }
   ],
   "source": [
    "#setenv(\"LD_PRELOAD\", \"/usr/lib/x86_64-linux-gnu/libnvblas.so\")\n",
    "getenv(\"LD_PRELOAD\")\n",
    "#loadlibary\n",
    "getenv(\"BLAS_VERSION\")\n",
    "getenv(\"USER\")\n",
    "setenv(\"LD_LIBRARY\", \"/usr/lib/x86_64-linux-gnu/\")\n",
    "\n",
    "pkg load nvblas\n",
    "\n",
    "M = 512*512; N = 2048; K = 2048;\n",
    "A = rand(K,M,\"single\"); B = rand(K,N,\"single\");\n",
    "\n",
    "# Count total elapsed time\n",
    "tic\n",
    "\n",
    "#Assume matrices are stored columnwise\n",
    "A = A / diag(norm(A,\"columns\")); B = B / diag(norm(B,\"columns\"));\n",
    "\n",
    "# Time sgemm only\n",
    "start = clock();\n",
    "C = transpose(B)*A;\n",
    "elapsedTime = etime(clock(), start);\n",
    "\n",
    "# Find maximum value in each column and store in a vector\n",
    "SAM=max(C);\n",
    "toc\n",
    "disp(elapsedTime);\n",
    "gFlops = 2*M*N*K/(elapsedTime * 1e+9);\n",
    "disp(gFlops);"
   ]
  },
  {
   "cell_type": "code",
   "execution_count": null,
   "metadata": {},
   "outputs": [],
   "source": []
  }
 ],
 "metadata": {
  "kernelspec": {
   "display_name": "Octave",
   "language": "octave",
   "name": "octave"
  },
  "language_info": {
   "file_extension": ".m",
   "help_links": [
    {
     "text": "GNU Octave",
     "url": "https://www.gnu.org/software/octave/support.html"
    },
    {
     "text": "Octave Kernel",
     "url": "https://github.com/Calysto/octave_kernel"
    },
    {
     "text": "MetaKernel Magics",
     "url": "https://github.com/calysto/metakernel/blob/master/metakernel/magics/README.md"
    }
   ],
   "mimetype": "text/x-octave",
   "name": "octave",
   "version": "4.2.1"
  }
 },
 "nbformat": 4,
 "nbformat_minor": 2
}
